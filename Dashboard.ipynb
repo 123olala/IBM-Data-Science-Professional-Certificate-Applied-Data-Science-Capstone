{
    "cells": [
        {
            "metadata": {},
            "cell_type": "code",
            "source": "!pip install dash",
            "execution_count": 2,
            "outputs": [
                {
                    "output_type": "stream",
                    "text": "Collecting dash\n  Downloading dash-2.0.0-py3-none-any.whl (7.3 MB)\n\u001b[K     |\u2588\u2588\u2588\u2588\u2588\u2588\u2588\u2588\u2588\u2588\u2588\u2588\u2588\u2588\u2588\u2588\u2588\u2588\u2588\u2588\u2588\u2588\u2588\u2588\u2588\u2588\u2588\u2588\u2588\u2588\u2588\u2588| 7.3 MB 12.6 MB/s eta 0:00:01\n\u001b[?25hCollecting flask-compress\n  Downloading Flask_Compress-1.10.1-py3-none-any.whl (7.9 kB)\nCollecting dash-html-components==2.0.0\n  Downloading dash_html_components-2.0.0.tar.gz (3.8 kB)\nCollecting plotly>=5.0.0\n  Downloading plotly-5.3.1-py2.py3-none-any.whl (23.9 MB)\n\u001b[K     |\u2588\u2588\u2588\u2588\u2588\u2588\u2588\u2588\u2588\u2588\u2588\u2588\u2588\u2588\u2588\u2588\u2588\u2588\u2588\u2588\u2588\u2588\u2588\u2588\u2588\u2588\u2588\u2588\u2588\u2588\u2588\u2588| 23.9 MB 59.5 MB/s eta 0:00:01\n\u001b[?25hCollecting dash-table==5.0.0\n  Downloading dash_table-5.0.0.tar.gz (3.4 kB)\nCollecting dash-core-components==2.0.0\n  Downloading dash_core_components-2.0.0.tar.gz (3.4 kB)\nCollecting Flask>=1.0.4\n  Downloading Flask-2.0.1-py3-none-any.whl (94 kB)\n\u001b[K     |\u2588\u2588\u2588\u2588\u2588\u2588\u2588\u2588\u2588\u2588\u2588\u2588\u2588\u2588\u2588\u2588\u2588\u2588\u2588\u2588\u2588\u2588\u2588\u2588\u2588\u2588\u2588\u2588\u2588\u2588\u2588\u2588| 94 kB 9.0 MB/s  eta 0:00:01\n\u001b[?25hCollecting itsdangerous>=2.0\n  Downloading itsdangerous-2.0.1-py3-none-any.whl (18 kB)\nRequirement already satisfied: Jinja2>=3.0 in /opt/conda/envs/Python-3.8-main/lib/python3.8/site-packages (from Flask>=1.0.4->dash) (3.0.0)\nCollecting Werkzeug>=2.0\n  Downloading Werkzeug-2.0.1-py3-none-any.whl (288 kB)\n\u001b[K     |\u2588\u2588\u2588\u2588\u2588\u2588\u2588\u2588\u2588\u2588\u2588\u2588\u2588\u2588\u2588\u2588\u2588\u2588\u2588\u2588\u2588\u2588\u2588\u2588\u2588\u2588\u2588\u2588\u2588\u2588\u2588\u2588| 288 kB 70.1 MB/s eta 0:00:01\n\u001b[?25hRequirement already satisfied: click>=7.1.2 in /opt/conda/envs/Python-3.8-main/lib/python3.8/site-packages (from Flask>=1.0.4->dash) (7.1.2)\nRequirement already satisfied: MarkupSafe>=2.0.0rc2 in /opt/conda/envs/Python-3.8-main/lib/python3.8/site-packages (from Jinja2>=3.0->Flask>=1.0.4->dash) (2.0.1)\nRequirement already satisfied: six in /opt/conda/envs/Python-3.8-main/lib/python3.8/site-packages (from plotly>=5.0.0->dash) (1.15.0)\nCollecting tenacity>=6.2.0\n  Downloading tenacity-8.0.1-py3-none-any.whl (24 kB)\nCollecting brotli\n  Downloading Brotli-1.0.9-cp38-cp38-manylinux1_x86_64.whl (357 kB)\n\u001b[K     |\u2588\u2588\u2588\u2588\u2588\u2588\u2588\u2588\u2588\u2588\u2588\u2588\u2588\u2588\u2588\u2588\u2588\u2588\u2588\u2588\u2588\u2588\u2588\u2588\u2588\u2588\u2588\u2588\u2588\u2588\u2588\u2588| 357 kB 60.3 MB/s eta 0:00:01\n\u001b[?25hBuilding wheels for collected packages: dash-core-components, dash-html-components, dash-table\n  Building wheel for dash-core-components (setup.py) ... \u001b[?25ldone\n\u001b[?25h  Created wheel for dash-core-components: filename=dash_core_components-2.0.0-py3-none-any.whl size=3804 sha256=fa8bfec942f7a52131fa57c2c2684699f5eabb14436a92bcb709751334613375\n  Stored in directory: /tmp/wsuser/.cache/pip/wheels/52/e4/f3/16724791571a955a46d54650510c98c04ab7d339626aee27cc\n  Building wheel for dash-html-components (setup.py) ... \u001b[?25ldone\n\u001b[?25h  Created wheel for dash-html-components: filename=dash_html_components-2.0.0-py3-none-any.whl size=4069 sha256=1fa16ead6dfea05057e49e2710abb2472b72310f174b11a38264026d00992c20\n  Stored in directory: /tmp/wsuser/.cache/pip/wheels/73/d8/8d/92f612c03c895f19bcc56a6c54be7bb41aaa698012a5624f60\n  Building wheel for dash-table (setup.py) ... \u001b[?25ldone\n\u001b[?25h  Created wheel for dash-table: filename=dash_table-5.0.0-py3-none-any.whl size=3897 sha256=5a21852988c6babc4d08023be218e77fc0ca9302fd3f7e731a8e0fe13f2b9afe\n  Stored in directory: /tmp/wsuser/.cache/pip/wheels/a6/fb/f5/4adf241f384634f52028f15eab6a325e77b8766a0a00816bbf\nSuccessfully built dash-core-components dash-html-components dash-table\nInstalling collected packages: Werkzeug, itsdangerous, tenacity, Flask, brotli, plotly, flask-compress, dash-table, dash-html-components, dash-core-components, dash\n  Attempting uninstall: Werkzeug\n    Found existing installation: Werkzeug 1.0.1\n    Uninstalling Werkzeug-1.0.1:\n      Successfully uninstalled Werkzeug-1.0.1\n  Attempting uninstall: plotly\n    Found existing installation: plotly 4.14.3\n    Uninstalling plotly-4.14.3:\n      Successfully uninstalled plotly-4.14.3\nSuccessfully installed Flask-2.0.1 Werkzeug-2.0.1 brotli-1.0.9 dash-2.0.0 dash-core-components-2.0.0 dash-html-components-2.0.0 dash-table-5.0.0 flask-compress-1.10.1 itsdangerous-2.0.1 plotly-5.3.1 tenacity-8.0.1\n",
                    "name": "stdout"
                }
            ]
        },
        {
            "metadata": {},
            "cell_type": "code",
            "source": "# Import required libraries\nimport pandas as pd\nimport dash\nimport dash_html_components as html\nimport dash_core_components as dcc\nfrom dash.dependencies import Input, Output\nimport plotly.express as px",
            "execution_count": 9,
            "outputs": []
        },
        {
            "metadata": {},
            "cell_type": "code",
            "source": "# Read the airline data into pandas dataframe\nspacex_df = pd.read_csv('https://cf-courses-data.s3.us.cloud-object-storage.appdomain.cloud/IBM-DS0321EN-SkillsNetwork/datasets/spacex_launch_dash.csv')\nmax_payload = spacex_df['Payload Mass (kg)'].max()\nmin_payload = spacex_df['Payload Mass (kg)'].min()",
            "execution_count": 6,
            "outputs": []
        },
        {
            "metadata": {},
            "cell_type": "code",
            "source": "# Create a dash application\napp = dash.Dash(__name__)",
            "execution_count": 7,
            "outputs": []
        },
        {
            "metadata": {},
            "cell_type": "code",
            "source": "# Create an app layout\napp.layout = html.Div(children=[html.H1('SpaceX Launch Records Dashboard',\n                                        style={'textAlign': 'center', 'color': '#503D36',\n                                               'font-size': 40}),\n                                # TASK 1: Add a dropdown list to enable Launch Site selection\n                                # The default select value is for ALL sites\n                                dcc.Dropdown(\n                                    id='site-dropdown',\n                                    options=[\n                                        {'label':'All Sites','value':'ALL'},\n                                        {'label':'CCAFS LC-40','value':'LC40'},\n                                        {'label':'VAFB SLC-4E','value':'SLC4E'},\n                                        {'label':'KSC LC-39A','value':'LC39A'},\n                                        {'label':'CCAFS SLC-40','value':'SLC40'}\n                                    ],\n                                    value='ALL',\n                                    placeholder='Select a Launch Site here',\n                                    searchable=True\n                                ),\n                                html.Br(),\n\n                                # TASK 2: Add a pie chart to show the total successful launches count for all sites\n                                # If a specific launch site was selected, show the Success vs. Failed counts for the site\n                                html.Div(dcc.Graph(id='success-pie-chart')),\n                                html.Br(),\n\n                                html.P(\"Payload range (Kg):\"),\n                                # TASK 3: Add a slider to select payload range\n                                dcc.RangeSlider(\n                                    id='payload-slider',\n                                    min=0,\n                                    max=10000,\n                                    step=1000,\n                                    marks = {\n                                        0:'0',\n                                        2500:'2500',\n                                        5000:'5000',\n                                        7500:'7500',\n                                        10000:'10000'\n                                    },\n                                    value=[min_payload,max_payload]\n                                ),\n\n                                # TASK 4: Add a scatter chart to show the correlation between payload and launch success\n                                html.Div(dcc.Graph(id='success-payload-scatter-chart')),\n                                ])\n\n# TASK 2:   \n# Add a callback function for `site-dropdown` as input, `success-pie-chart` as output\n@app.callback(\n    Output(\n        component_id='success-pie-chart',\n        component_property='figure'\n    ),\n    Input(\n        component_id='site-dropdown',\n        component_property='value'\n    )\n)\ndef get_pie_chart(entered_site):\n    if entered_site == 'ALL':\n        filtered_df = spacex_df\n        fig = px.pie(filtered_df,values='class',\\\n            names='Launch Site',title='Total Success Launches By Site')\n    elif entered_site == 'LC40':\n        filtered_df = spacex_df[spacex_df['Launch Site'] == 'CCAFS LC-40']\n        fig = px.pie(filtered_df,names='class',\\\n            title='Total Success Launches for site CCAFS LC-40')\n    elif entered_site == 'SLC4E':\n        filtered_df = spacex_df[spacex_df['Launch Site'] == 'VAFB SLC-4E']\n        fig = px.pie(filtered_df,names='class',\\\n            title='Total Success Launches for site VAFB SLC-4E')\n    elif entered_site == 'LC39A':\n        filtered_df = spacex_df[spacex_df['Launch Site'] == 'KSC LC-39A']\n        fig = px.pie(filtered_df,names='class',\\\n            title='Total Success Launches for site KSC LC-39A')\n    else:\n        filtered_df = spacex_df[spacex_df['Launch Site'] == 'CCAFS SLC-40']\n        fig = px.pie(filtered_df,names='class',\\\n            title='Total Success Launches for site CCAFS SLC-40')\n    return fig\n# TASK 4:\n# Add a callback function for `site-dropdown` and `payload-slider` as inputs, `success-payload-scatter-chart` as output\n@app.callback(\n    Output(\n        component_id='success-payload-scatter-chart',\n        component_property='figure'\n    ),\n    [\n        Input(\n            component_id='site-dropdown',\n            component_property='value'\n        ),\n        Input(\n            component_id='payload-slider',\n            component_property='value'\n        )\n    ]\n)\ndef get_scatter_chart(entered_site,payload_mass):\n    filtered_df = spacex_df[(spacex_df['Payload Mass (kg)'] >= payload_mass[0]) &\\\n        (spacex_df['Payload Mass (kg)'] <= payload_mass[1])]\n    if entered_site == 'ALL':\n        fig = px.scatter(filtered_df,x='Payload Mass (kg)',y='class',\\\n            color='Booster Version Category',\\\n                title='Correlation between Payload and Success for all Sites')\n    elif entered_site == 'LC40':\n        filtered_df = filtered_df[filtered_df['Launch Site'] == 'CCAFS LC-40']\n        fig = px.scatter(filtered_df,x='Payload Mass (kg)',y='class',\\\n            color='Booster Version Category',\\\n                title='Correlation between Payload and Success for site CCAFS LC-40')\n    elif entered_site == 'SLC4E':\n        filtered_df = filtered_df[filtered_df['Launch Site'] == 'VAFB SLC-4E']\n        fig = px.scatter(filtered_df,x='Payload Mass (kg)',y='class',\\\n            color='Booster Version Category',\\\n                title='Correlation between Payload and Success for site VAFB SLC-4E')\n    elif entered_site == 'LC39A':\n        filtered_df = filtered_df[filtered_df['Launch Site'] == 'KSC LC-39A']\n        fig = px.scatter(filtered_df,x='Payload Mass (kg)',y='class',\\\n            color='Booster Version Category',\\\n                title='Correlation between Payload and Success for site KSC LC-39A')\n    else:\n        filtered_df = filtered_df[filtered_df['Launch Site'] == 'CCAFS SLC-40']\n        fig = px.scatter(filtered_df,x='Payload Mass (kg)',y='class',\\\n            color='Booster Version Category',\\\n                title='Correlation between Payload and Success for site CCAFS SLC-40')\n    return fig",
            "execution_count": 10,
            "outputs": []
        },
        {
            "metadata": {},
            "cell_type": "code",
            "source": "app.run_server()",
            "execution_count": null,
            "outputs": [
                {
                    "output_type": "stream",
                    "text": "Dash is running on http://127.0.0.1:8050/\n\n * Serving Flask app '__main__' (lazy loading)\n * Environment: production\n\u001b[31m   WARNING: This is a development server. Do not use it in a production deployment.\u001b[0m\n\u001b[2m   Use a production WSGI server instead.\u001b[0m\n * Debug mode: off\n",
                    "name": "stdout"
                },
                {
                    "output_type": "stream",
                    "text": " * Running on http://127.0.0.1:8050/ (Press CTRL+C to quit)\n",
                    "name": "stderr"
                }
            ]
        },
        {
            "metadata": {},
            "cell_type": "code",
            "source": "",
            "execution_count": null,
            "outputs": []
        }
    ],
    "metadata": {
        "kernelspec": {
            "name": "python3",
            "display_name": "Python 3.8",
            "language": "python"
        },
        "language_info": {
            "name": "python",
            "version": "3.8.11",
            "mimetype": "text/x-python",
            "codemirror_mode": {
                "name": "ipython",
                "version": 3
            },
            "pygments_lexer": "ipython3",
            "nbconvert_exporter": "python",
            "file_extension": ".py"
        }
    },
    "nbformat": 4,
    "nbformat_minor": 1
}